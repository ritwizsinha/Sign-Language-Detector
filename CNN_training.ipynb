{
 "cells": [
  {
   "cell_type": "code",
   "execution_count": 1,
   "metadata": {},
   "outputs": [
    {
     "name": "stderr",
     "output_type": "stream",
     "text": [
      "Using TensorFlow backend.\n"
     ]
    },
    {
     "name": "stdout",
     "output_type": "stream",
     "text": [
      "Found 87000 images belonging to 29 classes.\n"
     ]
    }
   ],
   "source": [
    "#prep\n",
    "\n",
    "import numpy as np\n",
    "import seaborn as sns\n",
    "from keras.preprocessing.image import load_img, img_to_array\n",
    "import matplotlib.pyplot as plt\n",
    "import os\n",
    "\n",
    "# size of the image\n",
    "pic_size = 48\n",
    "\n",
    "# input path for the images\n",
    "base_path = 'images/'\n",
    "\n",
    "from keras.preprocessing.image import ImageDataGenerator\n",
    "\n",
    "# number of images to feed into the NN for every batch\n",
    "batch_size = 1\n",
    "\n",
    "datagen_train = ImageDataGenerator()\n",
    "datagen_validation = ImageDataGenerator()\n",
    "\n",
    "total_data = datagen_train.flow_from_directory(base_path + \"train/train\",\n",
    "                                                    target_size=(pic_size,pic_size),\n",
    "                                                    color_mode=\"grayscale\",\n",
    "                                                    batch_size=batch_size,\n",
    "                                                    class_mode='categorical',\n",
    "                                                    shuffle=True)"
   ]
  },
  {
   "cell_type": "code",
   "execution_count": 2,
   "metadata": {},
   "outputs": [],
   "source": [
    "import numpy as np\n",
    "d = np.random.permutation(87000)\n",
    "# out of 10700 datasets I will be using 80:20 (10000 datasets) for training:validation && 700 for testing\n",
    "x_train = np.empty((10000, 48, 48, 1), dtype=np.float32)\n",
    "y_train = np.empty((10000, 29), dtype=np.float32)\n",
    "x_test = np.empty((700, 48, 48, 1), dtype=np.float32)\n",
    "y_test = np.empty((700, 29), dtype=np.float32)\n",
    "for i in range(0,10000):\n",
    "    x_train[i] = total_data[d[i]][0][0]\n",
    "    y_train[i] = total_data[d[i]][1][0]\n",
    "for i in range(10000,10700):\n",
    "    x_test[i-10000] = total_data[d[i]][0][0] \n",
    "    y_test[i-10000] = total_data[d[i]][1][0] \n",
    "# Using data augmentation\n",
    "def augment_data(i, weak_th = None, strong_th = None): \n",
    "    img = x_test[i]\n",
    "    # conversion of image to grayscale \n",
    "#     img = cv2.cvtColor(img, cv2.COLOR_BGR2GRAY) \n",
    "       \n",
    "    # Noise reduction step \n",
    "    img = cv2.GaussianBlur(img, (5, 5), 1.4) \n",
    "       \n",
    "    # Calculating the gradients \n",
    "    gx = cv2.Sobel(np.float32(img), cv2.CV_64F, 1, 0, 3) \n",
    "    gy = cv2.Sobel(np.float32(img), cv2.CV_64F, 0, 1, 3) \n",
    "      \n",
    "    # Conversion of Cartesian coordinates to polar  \n",
    "    mag, ang = cv2.cartToPolar(gx, gy, angleInDegrees = True) \n",
    "       \n",
    "    # setting the minimum and maximum thresholds  \n",
    "    # for double thresholding \n",
    "    mag_max = np.max(mag) \n",
    "    if not weak_th:weak_th = mag_max * 0.1\n",
    "    if not strong_th:strong_th = mag_max * 0.5\n",
    "      \n",
    "    # getting the dimensions of the input image   \n",
    "    height, width = img.shape \n",
    "       \n",
    "    # Looping through every pixel of the grayscale  \n",
    "    # image \n",
    "    for i_x in range(width): \n",
    "        for i_y in range(height): \n",
    "               \n",
    "            grad_ang = ang[i_y, i_x] \n",
    "            grad_ang = abs(grad_ang-180) if abs(grad_ang)>180 else abs(grad_ang) \n",
    "               \n",
    "            # selecting the neighbours of the target pixel \n",
    "            # according to the gradient direction \n",
    "            # In the x axis direction \n",
    "            if grad_ang<= 22.5: \n",
    "                neighb_1_x, neighb_1_y = i_x-1, i_y \n",
    "                neighb_2_x, neighb_2_y = i_x + 1, i_y \n",
    "              \n",
    "            # top right (diagnol-1) direction \n",
    "            elif grad_ang>22.5 and grad_ang<=(22.5 + 45): \n",
    "                neighb_1_x, neighb_1_y = i_x-1, i_y-1\n",
    "                neighb_2_x, neighb_2_y = i_x + 1, i_y + 1\n",
    "              \n",
    "            # In y-axis direction \n",
    "            elif grad_ang>(22.5 + 45) and grad_ang<=(22.5 + 90): \n",
    "                neighb_1_x, neighb_1_y = i_x, i_y-1\n",
    "                neighb_2_x, neighb_2_y = i_x, i_y + 1\n",
    "              \n",
    "            # top left (diagnol-2) direction \n",
    "            elif grad_ang>(22.5 + 90) and grad_ang<=(22.5 + 135): \n",
    "                neighb_1_x, neighb_1_y = i_x-1, i_y + 1\n",
    "                neighb_2_x, neighb_2_y = i_x + 1, i_y-1\n",
    "              \n",
    "            # Now it restarts the cycle \n",
    "            elif grad_ang>(22.5 + 135) and grad_ang<=(22.5 + 180): \n",
    "                neighb_1_x, neighb_1_y = i_x-1, i_y \n",
    "                neighb_2_x, neighb_2_y = i_x + 1, i_y \n",
    "               \n",
    "            # Non-maximum suppression step \n",
    "            if width>neighb_1_x>= 0 and height>neighb_1_y>= 0: \n",
    "                if mag[i_y, i_x]<mag[neighb_1_y, neighb_1_x]: \n",
    "                    mag[i_y, i_x]= 0\n",
    "                    continue\n",
    "   \n",
    "            if width>neighb_2_x>= 0 and height>neighb_2_y>= 0: \n",
    "                if mag[i_y, i_x]<mag[neighb_2_y, neighb_2_x]: \n",
    "                    mag[i_y, i_x]= 0\n",
    "   \n",
    "    weak_ids = np.zeros_like(img) \n",
    "    strong_ids = np.zeros_like(img)               \n",
    "    ids = np.zeros_like(img) \n",
    "       \n",
    "    # double thresholding step \n",
    "    for i_x in range(width): \n",
    "        for i_y in range(height): \n",
    "              \n",
    "            grad_mag = mag[i_y, i_x] \n",
    "              \n",
    "            if grad_mag<weak_th: \n",
    "                mag[i_y, i_x]= 0\n",
    "            elif strong_th>grad_mag>= weak_th: \n",
    "                ids[i_y, i_x]= 1\n",
    "            else: \n",
    "                ids[i_y, i_x]= 2\n",
    "    \n",
    "    return mag\n",
    "for i in range(0,10000):\n",
    "    aa = randint(0,1)\n",
    "    if (aa==1) :\n",
    "        x_test[i] = augment_data(x_test[i])"
   ]
  },
  {
   "cell_type": "code",
   "execution_count": 3,
   "metadata": {},
   "outputs": [],
   "source": [
    "# new_val = []\n",
    "# for i in range (0,len(val)):\n",
    "#     for j in range (0,100):\n",
    "#         new_val.append((val[i][j][0],val[i][j][1]))"
   ]
  },
  {
   "cell_type": "code",
   "execution_count": 4,
   "metadata": {},
   "outputs": [],
   "source": [
    "# len(new_val)"
   ]
  },
  {
   "cell_type": "code",
   "execution_count": 5,
   "metadata": {},
   "outputs": [
    {
     "name": "stderr",
     "output_type": "stream",
     "text": [
      "WARNING: Logging before flag parsing goes to stderr.\n",
      "W1226 10:55:41.267582 140340371121984 deprecation_wrapper.py:119] From /usr/local/anaconda/lib/python3.6/site-packages/keras/backend/tensorflow_backend.py:72: The name tf.get_default_graph is deprecated. Please use tf.compat.v1.get_default_graph instead.\n",
      "\n",
      "W1226 10:55:41.289651 140340371121984 deprecation_wrapper.py:119] From /usr/local/anaconda/lib/python3.6/site-packages/keras/backend/tensorflow_backend.py:515: The name tf.placeholder is deprecated. Please use tf.compat.v1.placeholder instead.\n",
      "\n",
      "W1226 10:55:41.293081 140340371121984 deprecation_wrapper.py:119] From /usr/local/anaconda/lib/python3.6/site-packages/keras/backend/tensorflow_backend.py:4048: The name tf.random_uniform is deprecated. Please use tf.random.uniform instead.\n",
      "\n",
      "W1226 10:55:41.323543 140340371121984 deprecation_wrapper.py:119] From /usr/local/anaconda/lib/python3.6/site-packages/keras/backend/tensorflow_backend.py:172: The name tf.get_default_session is deprecated. Please use tf.compat.v1.get_default_session instead.\n",
      "\n",
      "W1226 10:55:41.324530 140340371121984 deprecation_wrapper.py:119] From /usr/local/anaconda/lib/python3.6/site-packages/keras/backend/tensorflow_backend.py:179: The name tf.ConfigProto is deprecated. Please use tf.compat.v1.ConfigProto instead.\n",
      "\n",
      "W1226 10:55:41.371208 140340371121984 deprecation_wrapper.py:119] From /usr/local/anaconda/lib/python3.6/site-packages/keras/backend/tensorflow_backend.py:1812: The name tf.nn.fused_batch_norm is deprecated. Please use tf.compat.v1.nn.fused_batch_norm instead.\n",
      "\n",
      "W1226 10:55:41.574867 140340371121984 deprecation_wrapper.py:119] From /usr/local/anaconda/lib/python3.6/site-packages/keras/backend/tensorflow_backend.py:3878: The name tf.nn.max_pool is deprecated. Please use tf.nn.max_pool2d instead.\n",
      "\n",
      "W1226 10:55:41.582462 140340371121984 deprecation.py:506] From /usr/local/anaconda/lib/python3.6/site-packages/keras/backend/tensorflow_backend.py:3368: calling dropout (from tensorflow.python.ops.nn_ops) with keep_prob is deprecated and will be removed in a future version.\n",
      "Instructions for updating:\n",
      "Please use `rate` instead of `keep_prob`. Rate should be set to `rate = 1 - keep_prob`.\n",
      "W1226 10:55:42.086675 140340371121984 deprecation_wrapper.py:119] From /usr/local/anaconda/lib/python3.6/site-packages/keras/optimizers.py:782: The name tf.train.Optimizer is deprecated. Please use tf.compat.v1.train.Optimizer instead.\n",
      "\n"
     ]
    }
   ],
   "source": [
    "#defining the model\n",
    "\n",
    "from keras.layers import Dense, Input, Dropout, GlobalAveragePooling2D, Flatten, Conv2D, BatchNormalization, Activation, MaxPooling2D\n",
    "from keras.models import Model, Sequential\n",
    "from keras.optimizers import Adam\n",
    "\n",
    "# number of possible label values\n",
    "nb_classes = 29\n",
    "\n",
    "# Initialising the CNN\n",
    "model = Sequential()\n",
    "\n",
    "# 1 - Convolution\n",
    "model.add(Conv2D(64,(3,3), padding='same', input_shape=(48, 48, 1)))\n",
    "model.add(BatchNormalization())\n",
    "model.add(Activation('relu'))\n",
    "model.add(MaxPooling2D(pool_size=(2, 2)))\n",
    "model.add(Dropout(0.25))\n",
    "\n",
    "# 2nd Convolution layer\n",
    "model.add(Conv2D(128,(5,5), padding='same'))\n",
    "model.add(BatchNormalization())\n",
    "model.add(Activation('relu'))\n",
    "model.add(MaxPooling2D(pool_size=(2, 2)))\n",
    "model.add(Dropout(0.25))\n",
    "\n",
    "# 3rd Convolution layer\n",
    "model.add(Conv2D(512,(3,3), padding='same'))\n",
    "model.add(BatchNormalization())\n",
    "model.add(Activation('relu'))\n",
    "model.add(MaxPooling2D(pool_size=(2, 2)))\n",
    "model.add(Dropout(0.25))\n",
    "\n",
    "# 4th Convolution layer\n",
    "model.add(Conv2D(512,(3,3), padding='same'))\n",
    "model.add(BatchNormalization())\n",
    "model.add(Activation('relu'))\n",
    "model.add(MaxPooling2D(pool_size=(2, 2)))\n",
    "model.add(Dropout(0.25))\n",
    "\n",
    "# Flattening\n",
    "model.add(Flatten())\n",
    "\n",
    "# Fully connected layer 1st layer\n",
    "model.add(Dense(256))\n",
    "model.add(BatchNormalization())\n",
    "model.add(Activation('relu'))\n",
    "model.add(Dropout(0.25))\n",
    "\n",
    "# Fully connected layer 2nd layer\n",
    "model.add(Dense(512))\n",
    "model.add(BatchNormalization())\n",
    "model.add(Activation('relu'))\n",
    "model.add(Dropout(0.25))\n",
    "\n",
    "model.add(Dense(nb_classes, activation='softmax'))\n",
    "\n",
    "opt = Adam(lr=0.0001)\n",
    "model.compile(optimizer=opt, loss='categorical_crossentropy', metrics=['accuracy'])"
   ]
  },
  {
   "cell_type": "code",
   "execution_count": 6,
   "metadata": {},
   "outputs": [
    {
     "name": "stderr",
     "output_type": "stream",
     "text": [
      "W1226 10:55:42.205439 140340371121984 deprecation.py:323] From /usr/local/anaconda/lib/python3.6/site-packages/tensorflow/python/ops/math_grad.py:1250: add_dispatch_support.<locals>.wrapper (from tensorflow.python.ops.array_ops) is deprecated and will be removed in a future version.\n",
      "Instructions for updating:\n",
      "Use tf.where in 2.0, which has the same broadcast rule as np.where\n"
     ]
    },
    {
     "name": "stdout",
     "output_type": "stream",
     "text": [
      "Train on 8000 samples, validate on 2000 samples\n",
      "Epoch 1/50\n",
      "8000/8000 [==============================] - 85s 11ms/step - loss: 3.3581 - acc: 0.1049 - val_loss: 2.9104 - val_acc: 0.1695\n",
      "Epoch 2/50\n",
      "8000/8000 [==============================] - 84s 11ms/step - loss: 2.7485 - acc: 0.2159 - val_loss: 2.6342 - val_acc: 0.2235\n",
      "Epoch 3/50\n",
      "8000/8000 [==============================] - 83s 10ms/step - loss: 2.4193 - acc: 0.2895 - val_loss: 2.6417 - val_acc: 0.2225\n",
      "Epoch 4/50\n",
      "8000/8000 [==============================] - 90s 11ms/step - loss: 2.1528 - acc: 0.3646 - val_loss: 2.4210 - val_acc: 0.2755\n",
      "Epoch 5/50\n",
      "8000/8000 [==============================] - 84s 11ms/step - loss: 1.9543 - acc: 0.4221 - val_loss: 2.1179 - val_acc: 0.3630\n",
      "Epoch 6/50\n",
      "8000/8000 [==============================] - 82s 10ms/step - loss: 1.7605 - acc: 0.4729 - val_loss: 2.1031 - val_acc: 0.3750\n",
      "Epoch 7/50\n",
      "8000/8000 [==============================] - 81s 10ms/step - loss: 1.5892 - acc: 0.5255 - val_loss: 1.7268 - val_acc: 0.4790\n",
      "Epoch 8/50\n",
      "8000/8000 [==============================] - 81s 10ms/step - loss: 1.4358 - acc: 0.5709 - val_loss: 1.7810 - val_acc: 0.4505\n",
      "Epoch 9/50\n",
      "8000/8000 [==============================] - 85s 11ms/step - loss: 1.3111 - acc: 0.6045 - val_loss: 1.5347 - val_acc: 0.5305\n",
      "Epoch 10/50\n",
      "8000/8000 [==============================] - 81s 10ms/step - loss: 1.1834 - acc: 0.6511 - val_loss: 1.4187 - val_acc: 0.5640\n",
      "Epoch 11/50\n",
      "8000/8000 [==============================] - 82s 10ms/step - loss: 1.0836 - acc: 0.6767 - val_loss: 1.3798 - val_acc: 0.5760\n",
      "Epoch 12/50\n",
      "8000/8000 [==============================] - 82s 10ms/step - loss: 0.9936 - acc: 0.6957 - val_loss: 1.1947 - val_acc: 0.6230\n",
      "Epoch 13/50\n",
      "8000/8000 [==============================] - 79s 10ms/step - loss: 0.9111 - acc: 0.7314 - val_loss: 1.2198 - val_acc: 0.6320\n",
      "Epoch 14/50\n",
      "8000/8000 [==============================] - 80s 10ms/step - loss: 0.8442 - acc: 0.7544 - val_loss: 1.2541 - val_acc: 0.6215\n",
      "Epoch 15/50\n",
      "8000/8000 [==============================] - 90s 11ms/step - loss: 0.7710 - acc: 0.7734 - val_loss: 0.9016 - val_acc: 0.7135\n",
      "Epoch 16/50\n",
      "8000/8000 [==============================] - 85s 11ms/step - loss: 0.7257 - acc: 0.7897 - val_loss: 0.9030 - val_acc: 0.7140\n",
      "Epoch 17/50\n",
      "8000/8000 [==============================] - 79s 10ms/step - loss: 0.6622 - acc: 0.8079 - val_loss: 0.8484 - val_acc: 0.7240\n",
      "Epoch 18/50\n",
      "8000/8000 [==============================] - 141s 18ms/step - loss: 0.6208 - acc: 0.8226 - val_loss: 0.8514 - val_acc: 0.7340\n",
      "Epoch 19/50\n",
      "8000/8000 [==============================] - 212s 26ms/step - loss: 0.5722 - acc: 0.8344 - val_loss: 0.6939 - val_acc: 0.7865\n",
      "Epoch 20/50\n",
      "8000/8000 [==============================] - 103s 13ms/step - loss: 0.5390 - acc: 0.8458 - val_loss: 0.5764 - val_acc: 0.8110\n",
      "Epoch 21/50\n",
      "8000/8000 [==============================] - 99s 12ms/step - loss: 0.4982 - acc: 0.8576 - val_loss: 0.5807 - val_acc: 0.8115\n",
      "Epoch 22/50\n",
      "8000/8000 [==============================] - 84s 11ms/step - loss: 0.4663 - acc: 0.8690 - val_loss: 0.4687 - val_acc: 0.8605\n",
      "Epoch 23/50\n",
      "8000/8000 [==============================] - 87s 11ms/step - loss: 0.4386 - acc: 0.8767 - val_loss: 0.5811 - val_acc: 0.8125\n",
      "Epoch 24/50\n",
      "8000/8000 [==============================] - 84s 10ms/step - loss: 0.4172 - acc: 0.8814 - val_loss: 0.5244 - val_acc: 0.8320\n",
      "Epoch 25/50\n",
      "8000/8000 [==============================] - 95s 12ms/step - loss: 0.4003 - acc: 0.8845 - val_loss: 0.6595 - val_acc: 0.7950\n",
      "Epoch 26/50\n",
      "8000/8000 [==============================] - 96s 12ms/step - loss: 0.3627 - acc: 0.8971 - val_loss: 0.3527 - val_acc: 0.8885\n",
      "Epoch 27/50\n",
      "8000/8000 [==============================] - 87s 11ms/step - loss: 0.3489 - acc: 0.8984 - val_loss: 0.4415 - val_acc: 0.8540\n",
      "Epoch 28/50\n",
      "8000/8000 [==============================] - 87s 11ms/step - loss: 0.3193 - acc: 0.9104 - val_loss: 0.3801 - val_acc: 0.8810\n",
      "Epoch 29/50\n",
      "8000/8000 [==============================] - 86s 11ms/step - loss: 0.3071 - acc: 0.9130 - val_loss: 0.3801 - val_acc: 0.8805\n",
      "Epoch 30/50\n",
      "8000/8000 [==============================] - 83s 10ms/step - loss: 0.2861 - acc: 0.9218 - val_loss: 0.3236 - val_acc: 0.9025\n",
      "Epoch 31/50\n",
      "8000/8000 [==============================] - 86s 11ms/step - loss: 0.2708 - acc: 0.9260 - val_loss: 0.3265 - val_acc: 0.8955\n",
      "Epoch 32/50\n",
      "8000/8000 [==============================] - 83s 10ms/step - loss: 0.2569 - acc: 0.9303 - val_loss: 0.3583 - val_acc: 0.8840\n",
      "Epoch 33/50\n",
      "8000/8000 [==============================] - 85s 11ms/step - loss: 0.2458 - acc: 0.9339 - val_loss: 0.3219 - val_acc: 0.8935\n",
      "Epoch 34/50\n",
      "8000/8000 [==============================] - 87s 11ms/step - loss: 0.2286 - acc: 0.9360 - val_loss: 0.2744 - val_acc: 0.9165\n",
      "Epoch 35/50\n",
      "8000/8000 [==============================] - 86s 11ms/step - loss: 0.2198 - acc: 0.9356 - val_loss: 0.2438 - val_acc: 0.9200\n",
      "Epoch 36/50\n",
      "8000/8000 [==============================] - 85s 11ms/step - loss: 0.2098 - acc: 0.9415 - val_loss: 0.2083 - val_acc: 0.9405\n",
      "Epoch 37/50\n",
      "8000/8000 [==============================] - 87s 11ms/step - loss: 0.2036 - acc: 0.9456 - val_loss: 0.4165 - val_acc: 0.8695\n",
      "Epoch 38/50\n",
      "8000/8000 [==============================] - 83s 10ms/step - loss: 0.1835 - acc: 0.9497 - val_loss: 0.2221 - val_acc: 0.9340\n",
      "Epoch 39/50\n",
      "8000/8000 [==============================] - 81s 10ms/step - loss: 0.1824 - acc: 0.9497 - val_loss: 0.2327 - val_acc: 0.9265\n",
      "Epoch 40/50\n",
      "8000/8000 [==============================] - 81s 10ms/step - loss: 0.1776 - acc: 0.9527 - val_loss: 0.1696 - val_acc: 0.9495\n",
      "Epoch 41/50\n",
      "8000/8000 [==============================] - 82s 10ms/step - loss: 0.1618 - acc: 0.9566 - val_loss: 0.2903 - val_acc: 0.9030\n",
      "Epoch 42/50\n",
      "8000/8000 [==============================] - 83s 10ms/step - loss: 0.1537 - acc: 0.9578 - val_loss: 0.1710 - val_acc: 0.9475\n",
      "Epoch 43/50\n",
      "8000/8000 [==============================] - 82s 10ms/step - loss: 0.1411 - acc: 0.9636 - val_loss: 0.1760 - val_acc: 0.9435\n",
      "Epoch 44/50\n",
      "8000/8000 [==============================] - 85s 11ms/step - loss: 0.1446 - acc: 0.9601 - val_loss: 0.1385 - val_acc: 0.9590\n",
      "Epoch 45/50\n",
      "8000/8000 [==============================] - 85s 11ms/step - loss: 0.1398 - acc: 0.9599 - val_loss: 0.2378 - val_acc: 0.9225\n",
      "Epoch 46/50\n",
      "8000/8000 [==============================] - 83s 10ms/step - loss: 0.1415 - acc: 0.9619 - val_loss: 0.1450 - val_acc: 0.9575\n",
      "Epoch 47/50\n",
      "8000/8000 [==============================] - 81s 10ms/step - loss: 0.1299 - acc: 0.9644 - val_loss: 0.1659 - val_acc: 0.9510\n",
      "Epoch 48/50\n",
      "8000/8000 [==============================] - 81s 10ms/step - loss: 0.1237 - acc: 0.9656 - val_loss: 0.1281 - val_acc: 0.9605\n",
      "Epoch 49/50\n",
      "8000/8000 [==============================] - 83s 10ms/step - loss: 0.1205 - acc: 0.9663 - val_loss: 0.1164 - val_acc: 0.9640\n",
      "Epoch 50/50\n",
      "8000/8000 [==============================] - 83s 10ms/step - loss: 0.1104 - acc: 0.9720 - val_loss: 0.2109 - val_acc: 0.9350\n"
     ]
    }
   ],
   "source": [
    "from keras.callbacks import ModelCheckpoint\n",
    "\n",
    "checkpoint = ModelCheckpoint(\"model_weights.h5\", monitor='val_acc', verbose=1, save_best_only=True, mode='max')\n",
    "callbacks_list = [checkpoint]\n",
    "# Fit the model\n",
    "history = model.fit(x_train, y_train, validation_split=0.2, epochs=50, batch_size=100)"
   ]
  },
  {
   "cell_type": "code",
   "execution_count": 9,
   "metadata": {},
   "outputs": [
    {
     "name": "stdout",
     "output_type": "stream",
     "text": [
      "Accuracy is ::\n",
      "0.9271428571428572\n"
     ]
    }
   ],
   "source": [
    "def num(x):\n",
    "    for i in range(0,29):\n",
    "        if(x[i]==1):\n",
    "            return i\n",
    "\n",
    "s = model.predict_classes(x_test)\n",
    "# print(\"Prediction is :: \")\n",
    "# print(s[1])\n",
    "# print(\"Actual is ::\")\n",
    "# print(num(y_test[1]))\n",
    "errors = 0\n",
    "for i in range(0,700):\n",
    "    if(s[i]!=num(y_test[i])):\n",
    "        errors += 1\n",
    "print(\"Accuracy is ::\")\n",
    "print((700-errors)/700)"
   ]
  },
  {
   "cell_type": "code",
   "execution_count": 10,
   "metadata": {},
   "outputs": [
    {
     "name": "stdout",
     "output_type": "stream",
     "text": [
      "Model Saved\n",
      "Weights saved\n"
     ]
    }
   ],
   "source": [
    "model_json = model.to_json()\n",
    "with open(\"Image_model.json\", \"w\") as json_file:\n",
    "    json_file.write(model_json)\n",
    "print('Model Saved')\n",
    "model.save_weights('Image_model_weights.h5')\n",
    "print('Weights saved')"
   ]
  },
  {
   "cell_type": "code",
   "execution_count": 13,
   "metadata": {},
   "outputs": [
    {
     "name": "stdout",
     "output_type": "stream",
     "text": [
      "dict_keys(['val_loss', 'val_acc', 'loss', 'acc'])\n"
     ]
    },
    {
     "data": {
      "image/png": "[encoded data removed]",
      "text/plain": [
       "<Figure size 432x288 with 1 Axes>"
      ]
     },
     "metadata": {
      "needs_background": "light"
     },
     "output_type": "display_data"
    },
    {
     "data": {
      "image/png": "[encoded data removed]",
      "text/plain": [
       "<Figure size 432x288 with 1 Axes>"
      ]
     },
     "metadata": {
      "needs_background": "light"
     },
     "output_type": "display_data"
    }
   ],
   "source": [
    "# list all data in history\n",
    "print(history.history.keys())\n",
    "# summarize history for accuracy\n",
    "plt.plot(history.history['acc'])\n",
    "plt.plot(history.history['val_acc'])\n",
    "plt.title('model accuracy')\n",
    "plt.ylabel('accuracy')\n",
    "plt.xlabel('epoch')\n",
    "plt.legend(['train', 'test'], loc='upper left')\n",
    "plt.show()\n",
    "# summarize history for loss\n",
    "plt.plot(history.history['loss'])\n",
    "plt.plot(history.history['val_loss'])\n",
    "plt.title('model loss')\n",
    "plt.ylabel('loss')\n",
    "plt.xlabel('epoch')\n",
    "plt.legend(['train', 'test'], loc='upper left')\n",
    "plt.show()"
   ]
  },
  {
   "cell_type": "code",
   "execution_count": 12,
   "metadata": {},
   "outputs": [
    {
     "name": "stdout",
     "output_type": "stream",
     "text": [
      "<class 'keras.callbacks.History'>\n"
     ]
    }
   ],
   "source": [
    "print(type(history))"
   ]
  },
  {
   "cell_type": "code",
   "execution_count": null,
   "metadata": {},
   "outputs": [],
   "source": []
  }
 ],
 "metadata": {
  "kernelspec": {
   "display_name": "Python 3",
   "language": "python",
   "name": "python3"
  },
  "language_info": {
   "codemirror_mode": {
    "name": "ipython",
    "version": 3
   },
   "file_extension": ".py",
   "mimetype": "text/x-python",
   "name": "python",
   "nbconvert_exporter": "python",
   "pygments_lexer": "ipython3",
   "version": "3.6.8"
  },
  "toc": {
   "base_numbering": 1,
   "nav_menu": {},
   "number_sections": true,
   "sideBar": true,
   "skip_h1_title": false,
   "title_cell": "Table of Contents",
   "title_sidebar": "Contents",
   "toc_cell": false,
   "toc_position": {},
   "toc_section_display": true,
   "toc_window_display": false
  }
 },
 "nbformat": 4,
 "nbformat_minor": 2
}
